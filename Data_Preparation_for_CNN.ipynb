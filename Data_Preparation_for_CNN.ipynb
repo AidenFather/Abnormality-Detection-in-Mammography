{
 "cells": [
  {
   "cell_type": "code",
   "execution_count": 1,
   "metadata": {},
   "outputs": [],
   "source": [
    "import os\n",
    "import numpy as np\n",
    "import pandas as pd\n",
    "import matplotlib.pyplot as plt\n",
    "from sklearn.utils import shuffle\n",
    "from sklearn import preprocessing\n",
    "from sklearn.model_selection import train_test_split\n",
    "%matplotlib inline"
   ]
  },
  {
   "cell_type": "markdown",
   "metadata": {},
   "source": [
    "## Load Data"
   ]
  },
  {
   "cell_type": "markdown",
   "metadata": {},
   "source": [
    "**CBIS-DDSM Data (Abnormal Images)**"
   ]
  },
  {
   "cell_type": "code",
   "execution_count": 2,
   "metadata": {},
   "outputs": [
    {
     "name": "stdout",
     "output_type": "stream",
     "text": [
      "Abnaormal train Patches: (8286, 256, 256, 1)\n",
      "Abnaormal train Labels: (8286,)\n",
      "Abnaormal train File Names: (8286,)\n",
      "\n",
      "\n",
      "Abnaormal test Patches: (1863, 256, 256, 1)\n",
      "Abnaormal test Labels: (1863,)\n",
      "Abnaormal test File Names: (1863,)\n"
     ]
    }
   ],
   "source": [
    "#train data\n",
    "CBIS_train_patches = np.load(os.path.join(\"./Processed_abnorm_256\", \"abnormal_train_patch.npy\" ))\n",
    "CBIS_train_labels = np.load(os.path.join(\"./Processed_abnorm_256\", \"abnormal_train_Lbl.npy\" ))\n",
    "CBIS_train_FNs = np.load(os.path.join(\"./Processed_abnorm_256\", \"abnormal_train_FN.npy\" ))\n",
    "\n",
    "#test data\n",
    "CBIS_test_patches = np.load(os.path.join(\"./Processed_abnorm_256\", \"abnormal_test_patch.npy\" ))\n",
    "CBIS_test_labels = np.load(os.path.join(\"./Processed_abnorm_256\", \"abnormal_test_Lbl.npy\" ))\n",
    "CBIS_test_FNs = np.load(os.path.join(\"./Processed_abnorm_256\", \"abnormal_test_FN.npy\" ))\n",
    "\n",
    "\n",
    "\n",
    "print(\"Abnaormal train Patches:\", CBIS_train_patches.shape)\n",
    "print(\"Abnaormal train Labels:\", CBIS_train_labels.shape)\n",
    "print(\"Abnaormal train File Names:\", CBIS_train_FNs.shape)\n",
    "print(\"\\n\")\n",
    "print(\"Abnaormal test Patches:\", CBIS_test_patches.shape)\n",
    "print(\"Abnaormal test Labels:\", CBIS_test_labels.shape)\n",
    "print(\"Abnaormal test File Names:\", CBIS_test_FNs.shape)"
   ]
  },
  {
   "cell_type": "code",
   "execution_count": 3,
   "metadata": {},
   "outputs": [],
   "source": [
    "#combine train and test data \n",
    "\n",
    "CBIS_all_patches = np.concatenate([CBIS_train_patches, CBIS_test_patches], axis=0)\n",
    "CBIS_all_labels = np.concatenate([CBIS_train_labels, CBIS_test_labels], axis=0)\n",
    "CBIS_all_FNs = np.concatenate([CBIS_train_FNs, CBIS_test_FNs], axis=0)\n",
    "\n",
    "CBIS_all_patches, CBIS_all_labels, CBIS_all_FNs = \\\n",
    "shuffle(CBIS_all_patches, CBIS_all_labels, CBIS_all_FNs, random_state=19510705)"
   ]
  },
  {
   "cell_type": "code",
   "execution_count": 4,
   "metadata": {},
   "outputs": [],
   "source": [
    "#split the combined data into train and test\n",
    "train_patches, test_patches, train_labels, test_labels, train_FNs, test_FNs = \\\n",
    "train_test_split(CBIS_all_patches, CBIS_all_labels, CBIS_all_FNs, test_size = 0.183565, random_state=19430727)"
   ]
  },
  {
   "cell_type": "markdown",
   "metadata": {},
   "source": [
    "**DDSM Data (Normal Images)**"
   ]
  },
  {
   "cell_type": "code",
   "execution_count": 5,
   "metadata": {},
   "outputs": [
    {
     "name": "stdout",
     "output_type": "stream",
     "text": [
      "No. of DDSM Images: (79082, 256, 256, 1)\n"
     ]
    }
   ],
   "source": [
    "#Howtek data\n",
    "howtek_patches = np.load(os.path.join(\"./Processed_norm_256\", \"howtek_patches_all.npy\" ))\n",
    "howtek_labels = np.load(os.path.join(\"./Processed_norm_256\", \"howtek_labels_all.npy\" ))\n",
    "howtek_FNs = np.load(os.path.join(\"./Processed_norm_256\", \"howtek_FileNames_all.npy\" ))\n",
    "\n",
    "#Lumisys data\n",
    "lumisys_patches = np.load(os.path.join(\"./Processed_norm_256\", \"howtek_patches_all.npy\" ))\n",
    "lumisys_labels = np.load(os.path.join(\"./Processed_norm_256\", \"howtek_labels_all.npy\" ))\n",
    "lumisys_FNs = np.load(os.path.join(\"./Processed_norm_256\", \"howtek_FileNames_all.npy\" ))\n",
    "\n",
    "#combined normal data \n",
    "normal_patches = np.concatenate([howtek_patches, lumisys_patches], axis = 0)\n",
    "normal_labels = np.concatenate([howtek_labels, lumisys_labels], axis = 0)\n",
    "normal_FNs = np.concatenate([howtek_FNs, lumisys_FNs], axis = 0)\n",
    "\n",
    "# print(\"Normal Patches:\", normal_patches.shape)\n",
    "# print(\"Normal Labels:\", normal_labels.shape)\n",
    "# print(\"Normal File Names:\", normal_FNs.shape)\n",
    "\n",
    "#Shuffle and split DDSM into train and test dataset\n",
    "normal_patches, normal_labels, normal_FNs = \\\n",
    "shuffle(normal_patches, normal_labels, normal_FNs, random_state=20170301)\n",
    "\n",
    "print(\"No. of DDSM Images:\", normal_patches.shape)"
   ]
  },
  {
   "cell_type": "code",
   "execution_count": 6,
   "metadata": {},
   "outputs": [
    {
     "name": "stdout",
     "output_type": "stream",
     "text": [
      "DDSM Train Images: (33121, 256, 256, 1)\n",
      "DDSM Train Labels: (33121,)\n",
      "DDSM Train File Names: (33121,)\n",
      "\n",
      "\n",
      "DDSM Test Images: (7448, 256, 256, 1)\n",
      "DDSM Test Labels: (7448,)\n",
      "DDSM Test File Names: (7448,)\n"
     ]
    }
   ],
   "source": [
    "#select 51.3% of DDSM data considering the number of CBIS data size\n",
    "\n",
    "DDSM_norm_patches, X_norm_patches, DDSM_norm_Lbls, y_norm_Lbls, DDSM_norm_FNs, Z2_norm_FNs = \\\n",
    "train_test_split(normal_patches, normal_labels, normal_FNs, test_size = 0.487, random_state=20200121)\n",
    "\n",
    "\n",
    "X_norm_train, X_norm_test, y_norm_train, y_norm_test, norm_FNs_train, norm_FNs_test = \\\n",
    "train_test_split(DDSM_norm_patches, DDSM_norm_Lbls, DDSM_norm_FNs, test_size = 0.183565, random_state=6325)\n",
    "\n",
    "\n",
    "print(\"DDSM Train Images:\", X_norm_train.shape)\n",
    "print(\"DDSM Train Labels:\", y_norm_train.shape)\n",
    "print(\"DDSM Train File Names:\", norm_FNs_train.shape)\n",
    "print(\"\\n\")\n",
    "print(\"DDSM Test Images:\", X_norm_test.shape)\n",
    "print(\"DDSM Test Labels:\", y_norm_test.shape)\n",
    "print(\"DDSM Test File Names:\", norm_FNs_test.shape)"
   ]
  },
  {
   "cell_type": "code",
   "execution_count": 7,
   "metadata": {},
   "outputs": [
    {
     "name": "stdout",
     "output_type": "stream",
     "text": [
      "% of preferred DDSM train data: 0.82\n",
      "Preferred No. of DDSM train data: 64558.0\n",
      "Preferred No. of DDSM test data: 14524.0\n"
     ]
    }
   ],
   "source": [
    "#check % of train data in the CBIS data and apply to DDSM train and test data split\n",
    "pct_train = train_patches.shape[0]/(train_patches.shape[0]+test_patches.shape[0])\n",
    "num_train_ddsm = normal_patches.shape[0]*pct_train\n",
    "num_test_ddsm = normal_patches.shape[0]*(1-pct_train)\n",
    "\n",
    "print(\"% of preferred DDSM train data:\", np.round(pct_train, 2))\n",
    "print(\"Preferred No. of DDSM train data:\", np.round(num_train_ddsm))\n",
    "print(\"Preferred No. of DDSM test data:\", np.round(num_test_ddsm))"
   ]
  },
  {
   "cell_type": "markdown",
   "metadata": {},
   "source": [
    "**Merged train and test dataset**"
   ]
  },
  {
   "cell_type": "code",
   "execution_count": 8,
   "metadata": {},
   "outputs": [],
   "source": [
    "#train data\n",
    "train_images = np.concatenate([X_norm_train, train_patches], axis=0)\n",
    "train_labels = np.concatenate([y_norm_train, train_labels], axis=0)\n",
    "train_FNs = np.concatenate([norm_FNs_train, train_FNs], axis=0)\n",
    "\n",
    "#test data\n",
    "test_images = np.concatenate([X_norm_test, test_patches], axis=0)\n",
    "test_labels = np.concatenate([y_norm_test, test_labels], axis=0)\n",
    "test_FNs = np.concatenate([norm_FNs_test, test_FNs], axis=0)"
   ]
  },
  {
   "cell_type": "markdown",
   "metadata": {},
   "source": [
    "**Label encoding**"
   ]
  },
  {
   "cell_type": "code",
   "execution_count": 9,
   "metadata": {},
   "outputs": [
    {
     "data": {
      "text/plain": [
       "LabelEncoder()"
      ]
     },
     "execution_count": 9,
     "metadata": {},
     "output_type": "execute_result"
    }
   ],
   "source": [
    "le = preprocessing.LabelEncoder()\n",
    "le.fit(train_labels)"
   ]
  },
  {
   "cell_type": "code",
   "execution_count": 10,
   "metadata": {},
   "outputs": [
    {
     "data": {
      "text/plain": [
       "['BENIGN_calcification',\n",
       " 'BENIGN_mass',\n",
       " 'MALIGNANT_calcification',\n",
       " 'MALIGNANT_mass',\n",
       " 'NORMAL']"
      ]
     },
     "execution_count": 10,
     "metadata": {},
     "output_type": "execute_result"
    }
   ],
   "source": [
    "list(le.classes_)"
   ]
  },
  {
   "cell_type": "code",
   "execution_count": 11,
   "metadata": {},
   "outputs": [],
   "source": [
    "#Convert Normal to 0 \n",
    "train_labels_en = le.transform(train_labels) + 1\n",
    "train_labels_en[train_labels_en==5]=0\n",
    "\n",
    "test_labels_en = le.transform(test_labels) + 1\n",
    "test_labels_en[test_labels_en==5]=0"
   ]
  },
  {
   "cell_type": "code",
   "execution_count": 12,
   "metadata": {},
   "outputs": [
    {
     "data": {
      "text/plain": [
       "array([0, 1, 2, 3, 4], dtype=int64)"
      ]
     },
     "execution_count": 12,
     "metadata": {},
     "output_type": "execute_result"
    }
   ],
   "source": [
    "np.unique(train_labels_en)"
   ]
  },
  {
   "cell_type": "code",
   "execution_count": 13,
   "metadata": {},
   "outputs": [
    {
     "data": {
      "text/plain": [
       "array([0, 1, 2, 3, 4], dtype=int64)"
      ]
     },
     "execution_count": 13,
     "metadata": {},
     "output_type": "execute_result"
    }
   ],
   "source": [
    "np.unique(test_labels_en)"
   ]
  },
  {
   "cell_type": "code",
   "execution_count": 14,
   "metadata": {},
   "outputs": [],
   "source": [
    "classes = le.classes_\n",
    "classes = np.insert(classes, 0, 'NORMAL', axis=0)\n",
    "classes = classes[0:5]"
   ]
  },
  {
   "cell_type": "code",
   "execution_count": 15,
   "metadata": {},
   "outputs": [
    {
     "data": {
      "text/plain": [
       "array(['NORMAL', 'BENIGN_calcification', 'BENIGN_mass',\n",
       "       'MALIGNANT_calcification', 'MALIGNANT_mass'], dtype='<U23')"
      ]
     },
     "execution_count": 15,
     "metadata": {},
     "output_type": "execute_result"
    }
   ],
   "source": [
    "classes"
   ]
  },
  {
   "cell_type": "code",
   "execution_count": 16,
   "metadata": {},
   "outputs": [],
   "source": [
    "train_bin_labels = np.zeros(len(train_labels_en)).astype(np.int32)\n",
    "train_bin_labels[train_labels_en != 0] = 1\n",
    "\n",
    "test_bin_labels = np.zeros(len(test_labels_en)).astype(np.int32)\n",
    "test_bin_labels[test_labels_en != 0] = 1"
   ]
  },
  {
   "cell_type": "code",
   "execution_count": 17,
   "metadata": {},
   "outputs": [
    {
     "data": {
      "text/plain": [
       "array([0, 1, 2, 3, 4], dtype=int64)"
      ]
     },
     "execution_count": 17,
     "metadata": {},
     "output_type": "execute_result"
    }
   ],
   "source": [
    "np.unique(train_labels_en)"
   ]
  },
  {
   "cell_type": "code",
   "execution_count": 18,
   "metadata": {},
   "outputs": [
    {
     "data": {
      "text/plain": [
       "array([0, 1])"
      ]
     },
     "execution_count": 18,
     "metadata": {},
     "output_type": "execute_result"
    }
   ],
   "source": [
    "np.unique(train_bin_labels)"
   ]
  },
  {
   "cell_type": "code",
   "execution_count": 19,
   "metadata": {},
   "outputs": [
    {
     "data": {
      "text/plain": [
       "array([0, 1, 2, 3, 4], dtype=int64)"
      ]
     },
     "execution_count": 19,
     "metadata": {},
     "output_type": "execute_result"
    }
   ],
   "source": [
    "np.unique(test_labels_en)"
   ]
  },
  {
   "cell_type": "code",
   "execution_count": 20,
   "metadata": {},
   "outputs": [
    {
     "data": {
      "text/plain": [
       "array([0, 1])"
      ]
     },
     "execution_count": 20,
     "metadata": {},
     "output_type": "execute_result"
    }
   ],
   "source": [
    "np.unique(test_bin_labels)"
   ]
  },
  {
   "cell_type": "markdown",
   "metadata": {},
   "source": [
    "**Save Labels**"
   ]
  },
  {
   "cell_type": "code",
   "execution_count": 21,
   "metadata": {},
   "outputs": [],
   "source": [
    "np.save(os.path.join(\"Label\", \"train_labels_en.npy\"), train_labels_en)\n",
    "np.save(os.path.join(\"Label\", \"test_labels_en.npy\"), test_labels_en)\n",
    "np.save(os.path.join(\"Label\", \"train_bin_labels.npy\"), train_bin_labels)\n",
    "np.save(os.path.join(\"Label\", \"test_bin_labels.npy\"), test_bin_labels)"
   ]
  },
  {
   "cell_type": "markdown",
   "metadata": {},
   "source": [
    "**Distribution of data**"
   ]
  },
  {
   "cell_type": "code",
   "execution_count": 22,
   "metadata": {},
   "outputs": [
    {
     "data": {
      "text/plain": [
       "0    0.799908\n",
       "1    0.069507\n",
       "2    0.048592\n",
       "4    0.042240\n",
       "3    0.039753\n",
       "dtype: float64"
      ]
     },
     "execution_count": 22,
     "metadata": {},
     "output_type": "execute_result"
    }
   ],
   "source": [
    "pd.value_counts(train_labels_en, normalize = True)"
   ]
  },
  {
   "cell_type": "code",
   "execution_count": 23,
   "metadata": {},
   "outputs": [
    {
     "data": {
      "text/plain": [
       "0    0.799828\n",
       "1    0.069480\n",
       "2    0.048432\n",
       "4    0.043492\n",
       "3    0.038767\n",
       "dtype: float64"
      ]
     },
     "execution_count": 23,
     "metadata": {},
     "output_type": "execute_result"
    }
   ],
   "source": [
    "pd.value_counts(test_labels_en, normalize = True)"
   ]
  },
  {
   "cell_type": "code",
   "execution_count": 24,
   "metadata": {},
   "outputs": [
    {
     "data": {
      "text/plain": [
       "0    0.799908\n",
       "1    0.200092\n",
       "dtype: float64"
      ]
     },
     "execution_count": 24,
     "metadata": {},
     "output_type": "execute_result"
    }
   ],
   "source": [
    "pd.value_counts(train_bin_labels, normalize = True)"
   ]
  },
  {
   "cell_type": "code",
   "execution_count": 25,
   "metadata": {},
   "outputs": [
    {
     "data": {
      "text/plain": [
       "0    0.799828\n",
       "1    0.200172\n",
       "dtype: float64"
      ]
     },
     "execution_count": 25,
     "metadata": {},
     "output_type": "execute_result"
    }
   ],
   "source": [
    "pd.value_counts(test_bin_labels, normalize = True)"
   ]
  },
  {
   "cell_type": "markdown",
   "metadata": {},
   "source": [
    "**Test and Validation Data Preparation**"
   ]
  },
  {
   "cell_type": "code",
   "execution_count": 26,
   "metadata": {},
   "outputs": [],
   "source": [
    "X_val, X_test, y_val, y_test, y_val_multi, y_test_multi = \\\n",
    "    train_test_split(test_images, test_bin_labels, test_labels_en, test_size=0.5, random_state=19730104)\n",
    "X_train, y_train, y_train_multi = \\\n",
    "     shuffle(train_images, train_bin_labels, train_labels_en, random_state=100)\n",
    "\n"
   ]
  },
  {
   "cell_type": "code",
   "execution_count": 27,
   "metadata": {},
   "outputs": [
    {
     "data": {
      "text/plain": [
       "(41406, 256, 256, 1)"
      ]
     },
     "execution_count": 27,
     "metadata": {},
     "output_type": "execute_result"
    }
   ],
   "source": [
    "X_train.shape"
   ]
  },
  {
   "cell_type": "code",
   "execution_count": 28,
   "metadata": {},
   "outputs": [
    {
     "data": {
      "text/plain": [
       "(41406,)"
      ]
     },
     "execution_count": 28,
     "metadata": {},
     "output_type": "execute_result"
    }
   ],
   "source": [
    "y_train.shape"
   ]
  },
  {
   "cell_type": "markdown",
   "metadata": {},
   "source": [
    "**Save Final Data**"
   ]
  },
  {
   "cell_type": "code",
   "execution_count": 31,
   "metadata": {},
   "outputs": [],
   "source": [
    "np.save(os.path.join(\"Data/256\", 'X_train.npy'), X_train)\n",
    "np.save(os.path.join(\"Data/256\", 'y_train.npy'), y_train)\n",
    "np.save(os.path.join(\"Data/256\", 'train_labels_multi.npy'), y_train_multi)"
   ]
  },
  {
   "cell_type": "code",
   "execution_count": 34,
   "metadata": {},
   "outputs": [],
   "source": [
    "np.save(os.path.join(\"Data/256\", 'X_val.npy'), X_val)\n",
    "np.save(os.path.join(\"Data/256\", 'y_val.npy'), y_val)\n",
    "np.save(os.path.join(\"Data/256\", 'y_val_labels_multi.npy'), y_val_multi)"
   ]
  },
  {
   "cell_type": "code",
   "execution_count": 35,
   "metadata": {},
   "outputs": [],
   "source": [
    "np.save(os.path.join(\"Data/256\", 'X_test.npy'), X_test)\n",
    "np.save(os.path.join(\"Data/256\", 'y_test.npy'), y_test)\n",
    "np.save(os.path.join(\"Data/256\", 'y_test_labels_multi.npy'), y_test_multi)"
   ]
  },
  {
   "cell_type": "code",
   "execution_count": null,
   "metadata": {},
   "outputs": [],
   "source": []
  }
 ],
 "metadata": {
  "kernelspec": {
   "display_name": "tf-gpu",
   "language": "python",
   "name": "tf-gpu"
  },
  "language_info": {
   "codemirror_mode": {
    "name": "ipython",
    "version": 3
   },
   "file_extension": ".py",
   "mimetype": "text/x-python",
   "name": "python",
   "nbconvert_exporter": "python",
   "pygments_lexer": "ipython3",
   "version": "3.7.6"
  }
 },
 "nbformat": 4,
 "nbformat_minor": 2
}
