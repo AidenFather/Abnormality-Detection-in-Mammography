{
 "cells": [
  {
   "cell_type": "code",
   "execution_count": 2,
   "metadata": {},
   "outputs": [],
   "source": [
    "import os\n",
    "import subprocess\n",
    "\n",
    "def Decom( FileName , x , y , pth ,ca):\n",
    "    os.chdir(r\"C:\\cygwin\\bin\")\n",
    "    pth = pth.translate(str.maketrans('','',':'))\n",
    "    pth = pth.translate(str.maketrans('\\\\','/'))\n",
    "    done = 'cd /cygdrive/' + pth + '; '\n",
    "    done += './jpeg.exe -d -s ./' + ca + '/' + FileName + '; '\n",
    "    done += './ddsmraw2pnm.exe ./' + ca + '/' + FileName + '.1 ' + x + ' ' + y + ' lumisys; '\n",
    "    done += './convert.exe -depth 16 ./' + ca + '/' + FileName + '.1-ddsmraw2pnm.pnm ./' + ca + '/' + FileName  + '.png ; '\n",
    "    #print (done)\n",
    "    cmd = [\"bash.exe\", \"-c\", done ]\n",
    "    subprocess.call(cmd)\n",
    "\n",
    "def Decom_all(path , case):    \n",
    "    file_list = []\n",
    "    new_path = path + '\\\\' + case\n",
    "    for file in [doc for doc in os.listdir(new_path) if doc.endswith(\".LJPEG\")]:\n",
    "        #print(file)\n",
    "    \t  file_list.append(file)\n",
    "    \n",
    "    for i in range(len(file_list)):\n",
    "        g = (file_list[i])\n",
    "        m = file_list[i].split('.')\n",
    "        d = m[0].split('_')\n",
    "        d = new_path + '/' + d[0] + '-' + d[1] + '-' + d[2] + '.ics'\n",
    "        lines = [line.split() for line in open(d)]\n",
    "        lines = sum(lines, [])\n",
    "        for i in range(len(lines)):\n",
    "            if (m[1] == lines[i]):\n",
    "                        x = lines[i+2]\n",
    "                        y = lines[i+4] \n",
    "                        break;\n",
    "        Decom( g , x , y , path,case)\n",
    "\n",
    "def gen_path(p):\n",
    "    file_list1 = []\n",
    "    for file in [doc for doc in os.listdir(p) if '.' not in doc]:\n",
    "        Decom_all(p ,file)\n",
    "\n",
    "#---------------------------------------------------------------------------------\n",
    "# Normal path =  'C:\\Users\\BR\\cancer\\case1226'\n",
    "# updated path = 'C:\\\\Users\\BR\\\\cancer'\n",
    "# add backslash \n",
    "\n",
    "#pth = 'C:\\\\Users\\BR\\\\cancer'\n",
    "pth=r'C:\\Users\\kk64\\Downloads\\DDSM\\Normal\\LUMYSIS'\n",
    "gen_path(pth)"
   ]
  },
  {
   "cell_type": "code",
   "execution_count": 3,
   "metadata": {},
   "outputs": [],
   "source": [
    "pth=r'C:\\Users\\kk64\\Downloads\\DDSM\\Normal\\LUMYSIS'"
   ]
  },
  {
   "cell_type": "code",
   "execution_count": 4,
   "metadata": {},
   "outputs": [],
   "source": [
    "def gen_path_file(p):\n",
    "    file_list1 = []\n",
    "    for file in [doc for doc in os.listdir(p) if '.' not in doc]:\n",
    "        print(file)\n",
    "        print(p)"
   ]
  },
  {
   "cell_type": "code",
   "execution_count": 6,
   "metadata": {},
   "outputs": [
    {
     "name": "stdout",
     "output_type": "stream",
     "text": [
      "case3600\n",
      "C:\\Users\\kk64\\Downloads\\DDSM\\Normal\\LUMYSIS\n",
      "case3601\n",
      "C:\\Users\\kk64\\Downloads\\DDSM\\Normal\\LUMYSIS\n"
     ]
    }
   ],
   "source": [
    "gen_path_file(pth)"
   ]
  },
  {
   "cell_type": "code",
   "execution_count": 11,
   "metadata": {},
   "outputs": [],
   "source": [
    "path=r'C:\\Users\\kk64\\Downloads\\DDSM\\Normal\\LUMYSIS'\n",
    "case='case3600'"
   ]
  },
  {
   "cell_type": "code",
   "execution_count": 10,
   "metadata": {},
   "outputs": [],
   "source": [
    "Decom_all(p,file)"
   ]
  },
  {
   "cell_type": "code",
   "execution_count": 12,
   "metadata": {},
   "outputs": [],
   "source": [
    "def Decom_all_test(path , case):    \n",
    "    file_list = []\n",
    "    new_path = path + '\\\\' + case\n",
    "    for file in [doc for doc in os.listdir(new_path) if doc.endswith(\".LJPEG\")]:\n",
    "        print(file)"
   ]
  },
  {
   "cell_type": "code",
   "execution_count": 13,
   "metadata": {},
   "outputs": [
    {
     "name": "stdout",
     "output_type": "stream",
     "text": [
      "B_3600_1.LEFT_CC.LJPEG\n",
      "B_3600_1.LEFT_MLO.LJPEG\n",
      "B_3600_1.RIGHT_CC.LJPEG\n",
      "B_3600_1.RIGHT_MLO.LJPEG\n"
     ]
    }
   ],
   "source": [
    "Decom_all_test(path, case)"
   ]
  },
  {
   "cell_type": "code",
   "execution_count": 14,
   "metadata": {},
   "outputs": [],
   "source": [
    "os.chdir(r\"C:\\cygwin\\bin\")"
   ]
  },
  {
   "cell_type": "code",
   "execution_count": 16,
   "metadata": {},
   "outputs": [],
   "source": [
    "path = path.translate(str.maketrans('','',':'))\n",
    "path = path.translate(str.maketrans('\\\\','/'))"
   ]
  },
  {
   "cell_type": "code",
   "execution_count": 17,
   "metadata": {},
   "outputs": [
    {
     "data": {
      "text/plain": [
       "'C/Users/kk64/Downloads/DDSM/Normal/LUMYSIS'"
      ]
     },
     "execution_count": 17,
     "metadata": {},
     "output_type": "execute_result"
    }
   ],
   "source": [
    "path"
   ]
  },
  {
   "cell_type": "code",
   "execution_count": 18,
   "metadata": {},
   "outputs": [],
   "source": [
    "done = 'cd /cygdrive/' + path + '; '"
   ]
  },
  {
   "cell_type": "code",
   "execution_count": 19,
   "metadata": {},
   "outputs": [
    {
     "data": {
      "text/plain": [
       "'cd /cygdrive/C/Users/kk64/Downloads/DDSM/Normal/LUMYSIS; '"
      ]
     },
     "execution_count": 19,
     "metadata": {},
     "output_type": "execute_result"
    }
   ],
   "source": [
    "done"
   ]
  },
  {
   "cell_type": "code",
   "execution_count": 22,
   "metadata": {},
   "outputs": [],
   "source": [
    "done += './jpeg.exe -d -s ./' + 'case3600' + '/' +'B_3600_1.LEFT_CC.LJPEG' + '; '"
   ]
  },
  {
   "cell_type": "code",
   "execution_count": 23,
   "metadata": {},
   "outputs": [
    {
     "data": {
      "text/plain": [
       "'cd /cygdrive/C/Users/kk64/Downloads/DDSM/Normal/LUMYSIS; ./jpeg.exe -d -s ./case3600/B_3600_1.LEFT_CC.LJPEG; '"
      ]
     },
     "execution_count": 23,
     "metadata": {},
     "output_type": "execute_result"
    }
   ],
   "source": [
    "done"
   ]
  },
  {
   "cell_type": "code",
   "execution_count": null,
   "metadata": {},
   "outputs": [],
   "source": []
  }
 ],
 "metadata": {
  "kernelspec": {
   "display_name": "Python 3",
   "language": "python",
   "name": "python3"
  },
  "language_info": {
   "codemirror_mode": {
    "name": "ipython",
    "version": 3
   },
   "file_extension": ".py",
   "mimetype": "text/x-python",
   "name": "python",
   "nbconvert_exporter": "python",
   "pygments_lexer": "ipython3",
   "version": "3.7.4"
  }
 },
 "nbformat": 4,
 "nbformat_minor": 2
}
